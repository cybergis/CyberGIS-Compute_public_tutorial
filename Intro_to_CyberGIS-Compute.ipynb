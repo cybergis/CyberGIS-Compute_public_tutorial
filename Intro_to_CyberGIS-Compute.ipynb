{
 "cells": [
  {
   "cell_type": "markdown",
   "metadata": {},
   "source": [
    "# Introduction to CyberGIS-Compute"
   ]
  },
  {
   "cell_type": "markdown",
   "metadata": {},
   "source": [
    "**Authors:** Zimo Xiao zimox2@illinois.edu, Furqan Baig fbaig@illinois.edu, Rebecca Vandewalle rcv3@illinois.edu, and Anand Padmanabhan apadmana@illinois.edu\n",
    "<br>**Last Updated:** 7-14-21\n",
    "\n",
    "CyberGIS-Compute enables students and researchers from diverse backgrounds to take advantage of High Performance Computing (HPC) resources without having to delve into the details of system setup, maintenance and management. It is backed by Virtual ROGER (Resourcing Open Geospatial Education and Research); a geospatial supercomputer with access to a number of readily available popular geospatial libraries.\n",
    "\n",
    "A major goal of CyberGISX is to provide its users with straightforward access software tools, libraries and computational resources for reproducible geospatial research and educataion, so they may focus their effort on research and application development activities, instead software installation and system engineeting. With CyberGIS-Compute powerful HPC resources are made easily accessible on CyberGISX so its users can leverage these prowerful computational resource for geospatial problem solving with minimal effort and low learning curve.\n",
    "\n",
    "In example 1: the hello world example, we will learn\n",
    "- The basics of the CyberGIS-Compute environment\n",
    "- The life cycle of a typical job in CyberGIS-Compute\n",
    "- How to run a simple `Hello World` example on HPC using CyberGIS-Compute\n",
    "\n",
    "In example 2: the custom code example, we will learn\n",
    "- How to connect to custom code to CyberGIS-Compute\n",
    "- How to run a job with custom code on HPC using CyberGIS-Compute"
   ]
  },
  {
   "cell_type": "markdown",
   "metadata": {},
   "source": [
    "## Contents\n",
    "- [Prerequisites](#prereqs)\n",
    "- [Setup](#setup)\n",
    "- [CyberGISX terminologies](#terminologies)\n",
    "- [Example 1: Hello World - Running Prepackaged Code using CyberGIS-Compute](#example1)\n",
    "    - [Import the CyberGIS-Compute client](#import_client)\n",
    "    - [Create a CyberGIS-Compute object](#create_object)\n",
    "    - [List HPC resources](#list_hpc)\n",
    "    - [List maintainers](#list_maintainers)\n",
    "    - [Create an HPC job](#create_job)\n",
    "    - [Submit the HPC job](#submit_job)\n",
    "    - [View job events](#view_events)\n",
    "    - [View job logs](#view_logs)\n",
    "- [Example 2: Running Custom Code using CyberGIS-Compute](#example2)\n",
    "    - [Creating a community contribution job](#create_comm_job)\n",
    "    - [Accessing custom code](#accessing)\n",
    "    - [Stages of execution](#stages)\n",
    "    - [Configuring the manifest file](#manifest)\n",
    "    - [Specifying the custom code repository](#specifying)\n",
    "    - [Submitting the job and tracking progress](#submit_and_track)\n",
    "- [Example 3: Using CyberGIS-Compute to run a Spatial Accessibility Computation](#example3)\n",
    "    - [Review available resources](#review)\n",
    "    - [Submit the job](#submit_accessibility)\n",
    "    - [Download results](#download_results)\n",
    "    - [Display results](#display_results)"
   ]
  },
  {
   "cell_type": "markdown",
   "metadata": {},
   "source": [
    "<a id='prereqs'></a>\n",
    "## Prerequisites\n",
    "To best understand this notebook, you should ideally have:\n",
    "- Experience working with Jupyter Notebooks\n",
    "- Familiarity with the Python programming language\n",
    "- Familiarity with the Git repositories"
   ]
  },
  {
   "cell_type": "markdown",
   "metadata": {},
   "source": [
    "<a id='setup'></a>\n",
    "## Setup\n",
    "Run the following code cell to set up our work environment. Essentially this sets up CyberGIS-Compute, the backend \n",
    "software development kit (SDK) to be able to access and work with High Performance Computing (HPC) resources for Python 3.\n",
    "\n",
    "Note: This will generate considerable text output the first time you execute it in a session since resources are being downloaded and installed."
   ]
  },
  {
   "cell_type": "code",
   "execution_count": null,
   "metadata": {},
   "outputs": [],
   "source": [
    "# Try to load CyberGIS-Compute client\n",
    "try:\n",
    "    from cybergis_compute_client import CyberGISCompute\n",
    "    \n",
    "# If not already setup, setup CyberGIS-Compute in the current Jupyter kernel\n",
    "except:\n",
    "    import sys\n",
    "    !{sys.executable} -m pip install git+https://github.com/cybergis/job-supervisor-python-sdk.git@v2"
   ]
  },
  {
   "cell_type": "markdown",
   "metadata": {},
   "source": [
    "<a id='terminologies'></a>\n",
    "## CyberGIS-Compute terminologies\n",
    "\n",
    "Before we get to the example, it is helpful to introduce some key terms.\n",
    "\n",
    "A typical High Performance Computing (HPC) job in CyberGISX using CyberGIS-Compute consists of the following major components. These are illustrated in the following image and described more below.\n",
    "\n",
    "![](cybergisx_flow.png)\n",
    "\n",
    "- CyberGIS-Compute\n",
    "    - This is an entry point to the CyberGISX environment from a Python/Jupyter notebook. \n",
    "    All interactions with the High Performance Computing (HPC) backend are performed using this object.\n",
    "- Maintainer\n",
    "    - CyberGIS-Compute provides a set of predefined ways to connect to a number of High Performance Computing (HPC) backends. These are termed  `Maintainers`.\n",
    "    - `Maintainers` are essentially pre-packaged programs which can be configured and controlled remotely and behave as bridges between users and High Performance Computing backends.\n",
    "    - Every `Maintainer` is connected to one of the available HPC backend resources. \n",
    "    - Users can submit jobs to respective HPC backends and monitor their progress via `Maintainers`.\n",
    "- High Performance Computing (HPC) Resources\n",
    "    - These are backend resources which typically require considerable effort to setup and maintain\n",
    "    - The details of working with these resources are abstracted from users\n",
    "    - These include a number of popular geospatial libraries\n",
    "- CyberGIS-Compute SDK (Software Development Kit)\n",
    "    - The CyberGIS-Compute SDK provide an application programming interface (API) for creating the CyberGIS-compute objects for submitting computational tasks to HPC resources, monitoring such tasks and downlioading results after the execution of the tasks on remote HPC resources\""
   ]
  },
  {
   "cell_type": "markdown",
   "metadata": {},
   "source": [
    "<a id='example1'></a>\n",
    "## Example 1: Hello World - Running Prepackaged Code using CyberGIS-Compute"
   ]
  },
  {
   "cell_type": "markdown",
   "metadata": {},
   "source": [
    "To gain familiarity with the CyberGIS-Compute environment, we present a simple `Hello World` example in this notebook. We will learn how to write code to initialize and work with some of the CyberGIS-Compute components mentioned above."
   ]
  },
  {
   "cell_type": "markdown",
   "metadata": {},
   "source": [
    "<a id='import_client'></a>\n",
    "### Import the CyberGIS-Compute client\n",
    "As mentioned earlier, every notebook using CyberGIS-Compute has to create a `CyberGISCompute` object to interact with the broader system. The following cell imports the required library from the Python Software Development Kit (SDK) that was downloaded and installed \n",
    "in the [Setup](#setup) section."
   ]
  },
  {
   "cell_type": "code",
   "execution_count": null,
   "metadata": {},
   "outputs": [],
   "source": [
    "# Load CyberGIS-Compute client\n",
    "from cybergis_compute_client import CyberGISCompute"
   ]
  },
  {
   "cell_type": "markdown",
   "metadata": {},
   "source": [
    "<a id='create_object'></a>\n",
    "### Create a CyberGIS-Compute object\n",
    "After importing the required libraries, we first need to initialize a `CyberGISCompute` object. \n",
    "\n",
    "This object connects to CyberGIS-Compute's web interface at `cgjobsup-dev.cigi.illinois.edu` on port `3030` using the `HTTP` protocol. Since we are working in a Jupyter environment, we need to set `isJupyter` to `True`. If, however, you are working in a simple Python environment, you should set this to `False`."
   ]
  },
  {
   "cell_type": "code",
   "execution_count": null,
   "metadata": {},
   "outputs": [],
   "source": [
    "# Create CyberGIS-Compute object\n",
    "cybergis = CyberGISCompute(url=\"cgjobsup-dev.cigi.illinois.edu\", \n",
    "                           port=3030, protocol='HTTP', isJupyter=True)"
   ]
  },
  {
   "cell_type": "markdown",
   "metadata": {},
   "source": [
    "<a id='list_hpc'></a>\n",
    "### List HPC resources\n",
    "You can list the HPC resources available in the current environment using the `list_hpc()` function for the `CyberGISCompute` object we created above.\n",
    "\n",
    "For instance, as of now, only the `keeling_community` HPC backend is available to the public. The `hadoop` backend is still under development and is set to private. For this `Hello World` example, we will be using the public `keeling_community` backend."
   ]
  },
  {
   "cell_type": "code",
   "execution_count": null,
   "metadata": {},
   "outputs": [],
   "source": [
    "# List available HPC resources\n",
    "cybergis.list_hpc()"
   ]
  },
  {
   "cell_type": "markdown",
   "metadata": {},
   "source": [
    "<a id='list_maintainers'></a>\n",
    "### List maintainers\n",
    "\n",
    "As mentioned earlier, to reduce setup and maintenance requirements, High Performance Computing resources are not directly accessible to the user. Instead, they are accessed using pre-programmed `Maintainers` which act as bridge between users and bare bone computing resources. While users can create and customize maintainers, in this first example, we will be using an existing maintainer.\n",
    "\n",
    "You can see all the available `Maintainers` using the `list_maintainer()` function."
   ]
  },
  {
   "cell_type": "code",
   "execution_count": null,
   "metadata": {},
   "outputs": [],
   "source": [
    "# List available maintainers\n",
    "cybergis.list_maintainer()"
   ]
  },
  {
   "cell_type": "markdown",
   "metadata": {},
   "source": [
    "A maintainer exposes a number of operations that a user can perform on the HPC backend. A user can create, customize, submit, and monitor jobs. Every maintainer has a specific number of jobs that it can create at a given time. This becomes handy when working with long running jobs since a user can create multiple jobs while waiting for other jobs to finish.\n",
    "\n",
    "In addition to creating and submitting jobs, maintainers also provide users with a number of customizable options. However, we will not cover these details in this first example. "
   ]
  },
  {
   "cell_type": "markdown",
   "metadata": {},
   "source": [
    "<a id='create_job'></a>\n",
    "### Create an HPC job\n",
    "\n",
    "In the next line, you will create a simple `Hello World` job using `hello_world_singularity` maintainer. You can create a job by using the `create_job()` function and passing in a string of the name of the `Maintainer` you wish to use. In the example below, you can see `hello_world_singularity`, which is the name of one of the maintainers in the above list, is passed into the function. The variable that this function result is assigned to will be used for further interactions with the job."
   ]
  },
  {
   "cell_type": "code",
   "execution_count": null,
   "metadata": {},
   "outputs": [],
   "source": [
    "# Create a job\n",
    "demo_job = cybergis.create_job('hello_world_singularity')"
   ]
  },
  {
   "cell_type": "markdown",
   "metadata": {},
   "source": [
    "<a id='submit_job'></a>\n",
    "### Submit the HPC job\n",
    "\n",
    "The next step is to submit the job created by the maintainer using the `submit()` function. Once a job is submitted, the code will be sent to and run on the selected High Performance Computing backend resources."
   ]
  },
  {
   "cell_type": "code",
   "execution_count": null,
   "metadata": {},
   "outputs": [],
   "source": [
    "# Submit the job\n",
    "demo_job.submit()"
   ]
  },
  {
   "cell_type": "markdown",
   "metadata": {},
   "source": [
    "<a id='view_events'></a>\n",
    "### View job events\n",
    "\n",
    "Once you have submitted a job, there is a lot going on in the backend. Since CyberGIS-Compute is implemented as a public shared service, a submitted job may not necessarily be executed right away. Instead, all jobs are added to a queue and then scheduled one by one based on available resources. Once a job starts executing, it goes through several\n",
    "steps, such as:\n",
    "\n",
    "- Uploading the executable to the HPC backend\n",
    "- Creating directories for writing results (None for this example)\n",
    "- Running the executable\n",
    "- Getting the job results\n",
    "\n",
    "All of these job stages can be observed in real time once a job is submitted using the `events()` function, with the `liveOutput` parameter set to `True`, which you can see in the following cell."
   ]
  },
  {
   "cell_type": "code",
   "execution_count": null,
   "metadata": {},
   "outputs": [],
   "source": [
    "# View job events\n",
    "demo_job.events(liveOutput=True)"
   ]
  },
  {
   "cell_type": "markdown",
   "metadata": {},
   "source": [
    "<a id='view_logs'></a>\n",
    "### View job logs\n",
    "A submitted job usually goes through a regular life cycle, as mentioned in previous step. The status of a submitted job provides limited information about the current stage a job is in. From a user's perspective, more useful information can be retrieved through logs. Logs are very important when you debugging code for jobs that execute on remote resources. You can access logs for a job using the `logs()` function, with the `liveOutput` parameter set to `True`, as shown below.\n",
    "\n",
    "For this `Hello World` example, when the job has been submitted and executed, the log will display a simple message: `hello world job complete!`."
   ]
  },
  {
   "cell_type": "code",
   "execution_count": null,
   "metadata": {},
   "outputs": [],
   "source": [
    "# View job logs\n",
    "demo_job.logs(liveOutput=True)"
   ]
  },
  {
   "cell_type": "markdown",
   "metadata": {},
   "source": [
    "This example illustrated the necessary steps to get started with CyberGIS-Compute on the CyberGISX environment. We went through the setup, basic terminologies and life cycle of a simple `Hello World` job, which when executed logs a simple message. \n",
    "\n",
    "In our next step, we will dive more into the details of customizing maintainers to be able to create and execute user specified code in CyberGISX."
   ]
  },
  {
   "cell_type": "markdown",
   "metadata": {},
   "source": [
    "<a id='example2'></a>\n",
    "## Example 2: Running Custom Code using CyberGIS-Compute"
   ]
  },
  {
   "cell_type": "markdown",
   "metadata": {},
   "source": [
    "In the previous example, we worked with a predefined maintainer to execute some code already written by a developer. However, you may also want to run your code on High Performance Computing resources.\n",
    "\n",
    "In this example, we will modify the `Hello World` example to execute custom code using HPC resources on the CyberGISX environment using CyberGIS-Compute."
   ]
  },
  {
   "cell_type": "markdown",
   "metadata": {},
   "source": [
    "<a id='create_comm_job'></a>\n",
    "### Creating a community contribution job\n",
    "\n",
    "We will first list the available maintainers for reference."
   ]
  },
  {
   "cell_type": "code",
   "execution_count": null,
   "metadata": {},
   "outputs": [],
   "source": [
    "# List available maintainers\n",
    "cybergis.list_maintainer()"
   ]
  },
  {
   "cell_type": "markdown",
   "metadata": {},
   "source": [
    "Unlike the `Hello World` example where we used the `hello_world_singularity` maintainer, in this example we will be using the `community_contribution` maintainer.\n",
    "\n",
    "Note that the `executable_folder->from_user` column for the `community_contribution` maintainer is set to `True`. This allows us to specify the where to access the custom code that the job will run using, which an important property of the job that we will create using this maintainer.\n",
    "\n",
    "In the next line, we will create a `community_contribution` job using the `create_job()` function."
   ]
  },
  {
   "cell_type": "code",
   "execution_count": null,
   "metadata": {},
   "outputs": [],
   "source": [
    "# Create a custom job\n",
    "custom_job = cybergis.create_job('community_contribution')"
   ]
  },
  {
   "cell_type": "markdown",
   "metadata": {},
   "source": [
    "<a id='accessing'></a>\n",
    "### Accessing custom code\n",
    "In order to run custom code using the above job, `CyberGISCompute` allows us to specify a Git repository containing the code. For security reasons, only approved git repositories are allowed. The list of approved and available repositories can be listed by using the `list_git()` function, as shown in the following cell."
   ]
  },
  {
   "cell_type": "code",
   "execution_count": null,
   "metadata": {},
   "outputs": [],
   "source": [
    "# List approved GitHub repositories\n",
    "cybergis.list_git()"
   ]
  },
  {
   "cell_type": "markdown",
   "metadata": {},
   "source": [
    "We will use `git://hello_world` which points to the [`https://github.com/cybergis/cybergis-compute-hello-world.git` git repository](https://github.com/cybergis/cybergis-compute-hello-world.git). "
   ]
  },
  {
   "cell_type": "markdown",
   "metadata": {},
   "source": [
    "<a id='stages'></a>\n",
    "### Stages of execution\n",
    "\n",
    "A job that runs using remote HPC resources can be divided into three primary stages: initialize, execute, and finalize. When we create custom code, we can specify what files should be run at each of these stages. The `git://hello_world` repository contains three python files, one for each stage.\n",
    "\n",
    "- Initialize Stage\n",
    "\n",
    "    - In general the initialize stage will specify and setup a one time initial configuration for the job. For instance, code for this stage will set global variables, parse logic for data, etc. In the current example, code for this stage is specified in `setup.py` which simply prints a message `running setup`.\n",
    "\n",
    "- Execute Stage\n",
    "\n",
    "    - The execute stage contains main logic for the job. Generally this will include the parallel and distributed logic to take advantage of the CyberGISX High Performance Computing backend. For instance, multi-threaded code, distributed logic, etc. In this example, this is specified in `main.py` which simply prints a message `running main`.\n",
    "\n",
    "- Finalize Stage\n",
    "\n",
    "    - As the name suggests, the code in this stage does finalizing tasks like clearing up job specific configurations etc. In this example, this is specified in `setup.py` which simply prints a message `running cleanup`."
   ]
  },
  {
   "cell_type": "markdown",
   "metadata": {},
   "source": [
    "<a id='manifest'></a>\n",
    "### Configuring the manifest file\n",
    "\n",
    "In particular, a custom contributed code repository needs to have a `manifest.json` file, which specifies which code to execute in the different job stages.\n",
    "\n",
    "A typical `manifest.json` will have the following format\n",
    "\n",
    "\n",
    "```\n",
    "{\n",
    "    \"name\": \"hello world\",\n",
    "    \"container\": \"python\",\n",
    "    \"setup_stage\": \"python {{JOB_EXECUTABLE_PATH}}/setup.py\",\n",
    "    \"execution_stage\": \"python {{JOB_EXECUTABLE_PATH}}/main.py\",\n",
    "    \"cleanup_stage\": \"python {{JOB_EXECUTABLE_PATH}}/cleanup.py\"\n",
    "}\n",
    "```\n",
    "\n",
    "Note that `{{JOB_EXECUTABLE_PATH}}` will be replaced during the remote job submission process by the actual path needed to run the job."
   ]
  },
  {
   "cell_type": "markdown",
   "metadata": {},
   "source": [
    "<a id='specifying'></a>\n",
    "### Specifying the custom code repository\n",
    "\n",
    "Now we need to specify the git repository containing the code for the job object. You can do this using the `set()` function and the `executableFolder` parameter."
   ]
  },
  {
   "cell_type": "code",
   "execution_count": null,
   "metadata": {},
   "outputs": [],
   "source": [
    "# Specify GitHub repository\n",
    "custom_job.set(executableFolder='git://hello_world', param={\"a\": \"param set a\"})"
   ]
  },
  {
   "cell_type": "markdown",
   "metadata": {},
   "source": [
    "<a id='submit_and_track'></a>\n",
    "### Submitting the job and tracking progress\n",
    "\n",
    "Now we have everything setup to submit our new job with custom code specified at the configured Git repository. These last processes of submitting and tracking the job status work the same as in the first example."
   ]
  },
  {
   "cell_type": "code",
   "execution_count": null,
   "metadata": {},
   "outputs": [],
   "source": [
    "# Submit custom job\n",
    "custom_job.submit()"
   ]
  },
  {
   "cell_type": "markdown",
   "metadata": {},
   "source": [
    "You can get information about the job using the `status()` function as shown below."
   ]
  },
  {
   "cell_type": "code",
   "execution_count": null,
   "metadata": {},
   "outputs": [],
   "source": [
    "# Check custom job status\n",
    "custom_job.status()"
   ]
  },
  {
   "cell_type": "markdown",
   "metadata": {},
   "source": [
    "Next you can track the job progress."
   ]
  },
  {
   "cell_type": "code",
   "execution_count": null,
   "metadata": {},
   "outputs": [],
   "source": [
    "# Check custom job events\n",
    "custom_job.events(liveOutput=True)"
   ]
  },
  {
   "cell_type": "markdown",
   "metadata": {},
   "source": [
    "As above, you can check the job output using the `logs()` function."
   ]
  },
  {
   "cell_type": "code",
   "execution_count": null,
   "metadata": {},
   "outputs": [],
   "source": [
    "# Check custom job logs\n",
    "custom_job.logs(liveOutput=True)"
   ]
  },
  {
   "cell_type": "markdown",
   "metadata": {},
   "source": [
    "Finally, you can download the output and error messages using the `downloadResultFolder()` function. The zip folder will be placed in the same location as this notebook."
   ]
  },
  {
   "cell_type": "code",
   "execution_count": null,
   "metadata": {},
   "outputs": [],
   "source": [
    "# create results folder to store downloaded results\n",
    "import os\n",
    "if not os.path.isdir(\"custom_result\"):\n",
    "    os.mkdir(\"custom_result\")"
   ]
  },
  {
   "cell_type": "code",
   "execution_count": null,
   "metadata": {},
   "outputs": [],
   "source": [
    "# Download results from custom job\n",
    "custom_job.downloadResultFolder('./custom_result')"
   ]
  },
  {
   "cell_type": "markdown",
   "metadata": {},
   "source": [
    "This example illustrated the necessary steps to run custom code on the CyberGISX environment using CyberGIS-Compute. We went through how to set up and specify a git repository that contains code and ran the custom job by specifying where to access the code.\n",
    "\n",
    "Future examples will demonstrate how to run existing maintainers with custom data and how to run custom code that uses custom data."
   ]
  },
  {
   "cell_type": "markdown",
   "metadata": {},
   "source": [
    "<a id='example3'></a>\n",
    "## Example 3: Using CyberGIS-Compute to run a Spatial Accessibility Computation"
   ]
  },
  {
   "cell_type": "markdown",
   "metadata": {},
   "source": [
    "In this final example, we will use CyberGIS-Compute to run a more complex example based on spatial accessibility work. This example takes approximately 25 minutes to run."
   ]
  },
  {
   "cell_type": "markdown",
   "metadata": {},
   "source": [
    "<a id='review'></a>\n",
    "### Review available resources"
   ]
  },
  {
   "cell_type": "markdown",
   "metadata": {},
   "source": [
    "Using the commands described above, we can review the available resources, maintainers, and custom code repositories."
   ]
  },
  {
   "cell_type": "code",
   "execution_count": null,
   "metadata": {},
   "outputs": [],
   "source": [
    "# Review CyberGIS-Compute resources\n",
    "cybergis.list_hpc()\n",
    "cybergis.list_maintainer()\n",
    "cybergis.list_git()"
   ]
  },
  {
   "cell_type": "markdown",
   "metadata": {},
   "source": [
    "Next, as above, we create a job, set the GitHub repository to the spatial accessibility repo, and submit the job."
   ]
  },
  {
   "cell_type": "markdown",
   "metadata": {},
   "source": [
    "<a id='submit_accessibility'></a>\n",
    "### Submit the job"
   ]
  },
  {
   "cell_type": "code",
   "execution_count": null,
   "metadata": {},
   "outputs": [],
   "source": [
    "# Create job, set GitHub repo, and submit job\n",
    "demo_job = cybergis.create_job('community_contribution')\n",
    "demo_job.set(executableFolder=\"git://spatial_access_covid-19\")\n",
    "demo_job.submit()"
   ]
  },
  {
   "cell_type": "markdown",
   "metadata": {},
   "source": [
    "We can now view the job events as it is running. This cell will take ~25 minutes to run (most of the time will be spent on the `JOB_INIT` step)."
   ]
  },
  {
   "cell_type": "code",
   "execution_count": null,
   "metadata": {},
   "outputs": [],
   "source": [
    "# View job events\n",
    "demo_job.events(liveOutput=True)"
   ]
  },
  {
   "cell_type": "markdown",
   "metadata": {},
   "source": [
    "Once the job has finished, you can view logs. In this case, information about the running software is displayed."
   ]
  },
  {
   "cell_type": "code",
   "execution_count": null,
   "metadata": {},
   "outputs": [],
   "source": [
    "# View job logs\n",
    "demo_job.logs(liveOutput=True)"
   ]
  },
  {
   "cell_type": "markdown",
   "metadata": {},
   "source": [
    "<a id='download_results'></a>\n",
    "### Download results"
   ]
  },
  {
   "cell_type": "markdown",
   "metadata": {},
   "source": [
    "Now we can save the completed computation results to a local folder and extract them from the zip file."
   ]
  },
  {
   "cell_type": "code",
   "execution_count": null,
   "metadata": {},
   "outputs": [],
   "source": [
    "# create results folder to store downloaded results\n",
    "import os\n",
    "if not os.path.isdir(\"accessibility_results/access_result/\"):\n",
    "    os.makedirs(\"accessibility_results/access_result/\")"
   ]
  },
  {
   "cell_type": "code",
   "execution_count": null,
   "metadata": {},
   "outputs": [],
   "source": [
    "# Save results to zip\n",
    "result_zip = demo_job.downloadResultFolder('./accessibility_results')"
   ]
  },
  {
   "cell_type": "code",
   "execution_count": null,
   "metadata": {},
   "outputs": [],
   "source": [
    "# Extract results\n",
    "import os, zipfile\n",
    "extract_results_to = \"accessibility_results/access_result/\"\n",
    "with zipfile.ZipFile(result_zip, 'r') as zip_ref:\n",
    "    zip_ref.extractall(extract_results_to)"
   ]
  },
  {
   "cell_type": "markdown",
   "metadata": {},
   "source": [
    "<a id='display_results'></a>\n",
    "### Display results"
   ]
  },
  {
   "cell_type": "markdown",
   "metadata": {},
   "source": [
    "Finally, we can visualize the results of the computation and plot the result."
   ]
  },
  {
   "cell_type": "code",
   "execution_count": null,
   "metadata": {},
   "outputs": [],
   "source": [
    "# Display results\n",
    "import geopandas as gpd\n",
    "result = gpd.read_file(os.path.join(extract_results_to, \"result.geojson\"))\n",
    "result.plot(column=\"hospital_vents\", cmap=\"OrRd\", legend=True, figsize=(12,8))"
   ]
  },
  {
   "cell_type": "markdown",
   "metadata": {},
   "source": [
    "This example illustrated how to run a more complex custom program on the CyberGISX environment using CyberGIS-Compute.\n",
    "\n",
    "Future examples will demonstrate how to run existing maintainers with custom data and how to run custom code that uses custom data."
   ]
  }
 ],
 "metadata": {
  "kernelspec": {
   "display_name": "Python 3",
   "language": "python",
   "name": "python3"
  },
  "language_info": {
   "codemirror_mode": {
    "name": "ipython",
    "version": 3
   },
   "file_extension": ".py",
   "mimetype": "text/x-python",
   "name": "python",
   "nbconvert_exporter": "python",
   "pygments_lexer": "ipython3",
   "version": "3.7.6"
  }
 },
 "nbformat": 4,
 "nbformat_minor": 4
}
